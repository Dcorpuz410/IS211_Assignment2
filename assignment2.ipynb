{
 "cells": [
  {
   "cell_type": "code",
   "execution_count": null,
   "id": "74e4abb2-016e-4c98-a65c-9338cfc50508",
   "metadata": {},
   "outputs": [
    {
     "name": "stdout",
     "output_type": "stream",
     "text": [
      "Skipping row due to error: invalid literal for int() with base 10: 'id'\n"
     ]
    },
    {
     "name": "stdin",
     "output_type": "stream",
     "text": [
      "Enter an ID to lookup (or <= 0 to exit):  5\n"
     ]
    },
    {
     "name": "stdout",
     "output_type": "stream",
     "text": [
      "ID: 5 - Name: Gavin Ball - Birthday: 20/03/1983\n"
     ]
    },
    {
     "name": "stdin",
     "output_type": "stream",
     "text": [
      "Enter an ID to lookup (or <= 0 to exit):  16\n"
     ]
    },
    {
     "name": "stdout",
     "output_type": "stream",
     "text": [
      "ID: 16 - Name: Felicity Churchill - Birthday: 09/11/1983\n"
     ]
    },
    {
     "name": "stdin",
     "output_type": "stream",
     "text": [
      "Enter an ID to lookup (or <= 0 to exit):  21\n"
     ]
    },
    {
     "name": "stdout",
     "output_type": "stream",
     "text": [
      "ID: 21 - Name: Dorothy Lee - Birthday: 16/03/1999\n"
     ]
    }
   ],
   "source": [
    "import argparse\n",
    "import logging\n",
    "import requests\n",
    "import csv\n",
    "from io import StringIO\n",
    "import sys\n",
    "\n",
    "# Simulating command-line arguments in a notebook environment\n",
    "sys.argv = ['script_name.py', '--url', 'https://raw.githubusercontent.com/Dcorpuz410/IS211_Assignment2/master/birthdays100.csv']\n",
    "\n",
    "# Setting up the logger\n",
    "def setup_logger():\n",
    "    logger = logging.getLogger('assignment2')\n",
    "    handler = logging.FileHandler('errors.log')\n",
    "    handler.setLevel(logging.ERROR)\n",
    "    formatter = logging.Formatter('%(asctime)s - %(levelname)s - %(message)s')\n",
    "    handler.setFormatter(formatter)\n",
    "    logger.addHandler(handler)\n",
    "    return logger\n",
    "\n",
    "# Function to download the data\n",
    "def downloadData(url):\n",
    "    try:\n",
    "        # Ensure we're using the raw URL for GitHub files\n",
    "        if not url.startswith('https://raw.githubusercontent.com'):\n",
    "            raise Exception(\"Provided URL is not a raw GitHub URL\")\n",
    "        \n",
    "        response = requests.get(url)\n",
    "        response.raise_for_status()  # Will raise an exception for non-2xx status codes\n",
    "        return response.text\n",
    "    except requests.exceptions.RequestException as e:\n",
    "        raise Exception(f\"Error downloading data: {e}\")\n",
    "\n",
    "# Function to process the CSV data into a dictionary\n",
    "def processData(csvData):\n",
    "    personData = {}\n",
    "    csv_reader = csv.reader(StringIO(csvData))\n",
    "    for row in csv_reader:\n",
    "        if row:  # Check if the row is not empty\n",
    "            try:\n",
    "                id = int(row[0])\n",
    "                name = row[1]\n",
    "                birthday = row[2]\n",
    "                personData[id] = (name, birthday)\n",
    "            except ValueError as e:\n",
    "                print(f\"Skipping row due to error: {e}\")\n",
    "    return personData\n",
    "\n",
    "# Function to display a person's details\n",
    "def displayPerson(personData, id):\n",
    "    if id in personData:\n",
    "        name, birthday = personData[id]\n",
    "        print(f\"ID: {id} - Name: {name} - Birthday: {birthday}\")\n",
    "    else:\n",
    "        print(f\"ID {id} not found.\")\n",
    "\n",
    "# Main function\n",
    "def main():\n",
    "    # Set up argument parsing\n",
    "    parser = argparse.ArgumentParser(description=\"Download and process birthday data.\")\n",
    "    parser.add_argument('--url', required=True, help=\"URL of the CSV file\")\n",
    "    args = parser.parse_args()\n",
    "\n",
    "    # Set up logger\n",
    "    logger = setup_logger()\n",
    "\n",
    "    # Initialize personData to None, so it's clear if it fails to initialize\n",
    "    personData = None\n",
    "\n",
    "    # Download and process the CSV data\n",
    "    try:\n",
    "        csvData = downloadData(args.url)\n",
    "    except Exception as e:\n",
    "        logger.error(str(e))\n",
    "        print(f\"Error: {e}\")\n",
    "        exit(1)\n",
    "\n",
    "    try:\n",
    "        personData = processData(csvData)\n",
    "    except Exception as e:\n",
    "        logger.error(f\"Error processing data: {e}\")\n",
    "        print(f\"Error processing data: {e}\")\n",
    "        exit(1)\n",
    "\n",
    "    if personData is None:\n",
    "        print(\"Error: Failed to process the data.\")\n",
    "        exit(1)\n",
    "\n",
    "    # Keep asking for user input until they enter a number <= 0\n",
    "    while True:\n",
    "        try:\n",
    "            user_id = int(input(\"Enter an ID to lookup (or <= 0 to exit): \"))\n",
    "            if user_id <= 0:\n",
    "                print(\"Exiting the program.\")\n",
    "                break\n",
    "            displayPerson(personData, user_id)\n",
    "        except ValueError:\n",
    "            print(\"Invalid input. Please enter a valid number.\")\n",
    "\n",
    "if __name__ == \"__main__\":\n",
    "    main()\n",
    "\n",
    "# To run the script, use the following command:\n",
    "# python script_name.py --url \"https://raw.githubusercontent.com/Dcorpuz410/IS211_Assignment2/master/birthdays100.csv\"\n"
   ]
  },
  {
   "cell_type": "code",
   "execution_count": null,
   "id": "d820282b-8e74-44ad-948b-23144d8083f6",
   "metadata": {},
   "outputs": [],
   "source": []
  }
 ],
 "metadata": {
  "kernelspec": {
   "display_name": "Python [conda env:base] *",
   "language": "python",
   "name": "conda-base-py"
  },
  "language_info": {
   "codemirror_mode": {
    "name": "ipython",
    "version": 3
   },
   "file_extension": ".py",
   "mimetype": "text/x-python",
   "name": "python",
   "nbconvert_exporter": "python",
   "pygments_lexer": "ipython3",
   "version": "3.12.7"
  }
 },
 "nbformat": 4,
 "nbformat_minor": 5
}
